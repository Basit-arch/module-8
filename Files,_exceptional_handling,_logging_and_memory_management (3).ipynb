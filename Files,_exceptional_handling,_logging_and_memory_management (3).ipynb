{
  "nbformat": 4,
  "nbformat_minor": 0,
  "metadata": {
    "colab": {
      "provenance": []
    },
    "kernelspec": {
      "name": "python3",
      "display_name": "Python 3"
    },
    "language_info": {
      "name": "python"
    }
  },
  "cells": [
    {
      "cell_type": "markdown",
      "source": [
        "###THEORY QUESTIONS:"
      ],
      "metadata": {
        "id": "mjykKGmthWj1"
      }
    },
    {
      "cell_type": "markdown",
      "source": [
        "1. What is the difference between interpreted and compiled languages?"
      ],
      "metadata": {
        "id": "aGCjpVmTQUo1"
      }
    },
    {
      "cell_type": "markdown",
      "source": [
        "\n",
        "Interpreted languages execute code line-by-line via an interpreter, offering flexibility but slower performance. Compiled languages translate entire code into machine language beforehand, yielding faster execution but less runtime flexibility."
      ],
      "metadata": {
        "id": "noN2VOsLQwnp"
      }
    },
    {
      "cell_type": "markdown",
      "source": [
        "2. What is exception handling in Python?"
      ],
      "metadata": {
        "id": "--4em_yKRAnA"
      }
    },
    {
      "cell_type": "markdown",
      "source": [
        "\n",
        "Exception handling in Python manages runtime errors using try, except, else, and finally blocks. It prevents crashes by catching errors, allowing alternative execution paths or cleanup actions."
      ],
      "metadata": {
        "id": "ugthfQNWRM0i"
      }
    },
    {
      "cell_type": "markdown",
      "source": [
        "3. What is the purpose of the finally block in exception handling?"
      ],
      "metadata": {
        "id": "wxvgQOKWRNqz"
      }
    },
    {
      "cell_type": "markdown",
      "source": [
        "\n",
        "The finally block in exception handling ensures that specific code runs regardless of whether an exception occurred, typically for cleanup tasks like closing files or releasing resources."
      ],
      "metadata": {
        "id": "cTw0gPcjRaGY"
      }
    },
    {
      "cell_type": "markdown",
      "source": [
        "4. What is logging in Python?"
      ],
      "metadata": {
        "id": "2P9Ogry1RbAa"
      }
    },
    {
      "cell_type": "markdown",
      "source": [
        "Logging in Python records messages about an application’s execution, aiding debugging and monitoring. The logging module provides flexibility to log messages at different levels (e.g., debug, info, error)."
      ],
      "metadata": {
        "id": "4fvonJajRmoW"
      }
    },
    {
      "cell_type": "markdown",
      "source": [
        "5.What is the significance of the __del__ method in Python?"
      ],
      "metadata": {
        "id": "Kd33mDikRr1G"
      }
    },
    {
      "cell_type": "markdown",
      "source": [
        "\n",
        "The __del__ method in Python is a destructor called when an object is deleted or garbage collected. It allows cleanup of resources like file handles or connections before object removal."
      ],
      "metadata": {
        "id": "0QbANcrpSF1x"
      }
    },
    {
      "cell_type": "markdown",
      "source": [
        "6.What is the difference between import and from ... import in Python?"
      ],
      "metadata": {
        "id": "CLCAwcZVSGrM"
      }
    },
    {
      "cell_type": "markdown",
      "source": [
        "import brings an entire module into scope, accessed with its name (e.g., module.func()).\n",
        "from ... import imports specific elements directly into scope (e.g., func()), reducing redundancy"
      ],
      "metadata": {
        "id": "AlG11IkUSRai"
      }
    },
    {
      "cell_type": "markdown",
      "source": [
        "7.How can you handle multiple exceptions in Python?"
      ],
      "metadata": {
        "id": "4Ddk87JNSSP-"
      }
    },
    {
      "cell_type": "markdown",
      "source": [
        "\n",
        "In Python, multiple exceptions can be handled using:\n",
        "\n",
        "1. Separate except blocks: Handle each exception type individually.\n",
        "\n",
        "2. A single except block with a tuple: Catch multiple exceptions in one block."
      ],
      "metadata": {
        "id": "Sv6xWeRbTUVG"
      }
    },
    {
      "cell_type": "markdown",
      "source": [
        "8.What is the purpose of the with statement when handling files in Python?"
      ],
      "metadata": {
        "id": "Ao_JM2vvSiqi"
      }
    },
    {
      "cell_type": "markdown",
      "source": [
        "\n",
        "The with statement ensures proper handling of files by automatically closing them after the block execution, even if an exception occurs, promoting cleaner and safer code management."
      ],
      "metadata": {
        "id": "30jCiJCNTqvu"
      }
    },
    {
      "cell_type": "markdown",
      "source": [
        "9.What is the difference between multithreading and multiprocessing?"
      ],
      "metadata": {
        "id": "HhnlX32nTlBV"
      }
    },
    {
      "cell_type": "markdown",
      "source": [
        "Multithreading involves multiple threads sharing the same memory space for concurrent tasks, ideal for I/O-bound operations. Multiprocessing uses separate processes with independent memory, better for CPU-bound tasks."
      ],
      "metadata": {
        "id": "wH1IsHL6T8Aw"
      }
    },
    {
      "cell_type": "markdown",
      "source": [
        "10.What are the advantages of using logging in a program?"
      ],
      "metadata": {
        "id": "WqiSwLfIT9Ak"
      }
    },
    {
      "cell_type": "markdown",
      "source": [
        "\n",
        "Logging provides advantages like easier debugging, monitoring application behavior, tracking execution flow, diagnosing issues, recording error details, and maintaining logs for future analysis without using print statements."
      ],
      "metadata": {
        "id": "58-MUPApUTee"
      }
    },
    {
      "cell_type": "markdown",
      "source": [
        "11. What is memory management in Python?"
      ],
      "metadata": {
        "id": "8DF-swhtUUZC"
      }
    },
    {
      "cell_type": "markdown",
      "source": [
        "\n",
        "Memory management in Python handles allocation, usage, and deallocation of memory. It includes automatic garbage collection, reference counting, and dynamic type system to manage memory efficiently and prevent leaks."
      ],
      "metadata": {
        "id": "s53k49AUUdXZ"
      }
    },
    {
      "cell_type": "markdown",
      "source": [
        "12. What are the basic steps involved in exception handling in Python?"
      ],
      "metadata": {
        "id": "5KRHeUj-UeO-"
      }
    },
    {
      "cell_type": "markdown",
      "source": [
        "The basic steps in Python exception handling are:\n",
        "\n",
        "try block: Place code that may raise an exception.\n",
        "\n",
        "except block: Handle specific exceptions.\n",
        "\n",
        "else block: Executes if no exception occurs.\n",
        "\n",
        "finally block: Executes cleanup code regardless of exceptions.\n",
        "\n",
        "\n",
        "\n",
        "\n",
        "\n"
      ],
      "metadata": {
        "id": "iBY3kaxMU2QA"
      }
    },
    {
      "cell_type": "markdown",
      "source": [
        "13. Why is memory management important in Python?"
      ],
      "metadata": {
        "id": "xY0AWvoYVARA"
      }
    },
    {
      "cell_type": "markdown",
      "source": [
        "Memory management is important in Python to optimize resource usage, prevent memory leaks, ensure efficient execution, manage object life cycles, and support garbage collection for better performance."
      ],
      "metadata": {
        "id": "w_2-IUp9VUOE"
      }
    },
    {
      "cell_type": "markdown",
      "source": [
        "14. What is the role of try and except in exception handling?"
      ],
      "metadata": {
        "id": "nlgHbXIHVVJI"
      }
    },
    {
      "cell_type": "markdown",
      "source": [
        "try defines a block of code to test for exceptions. except catches and handles specific exceptions if they occur, preventing program crashes and allowing alternative execution paths."
      ],
      "metadata": {
        "id": "AC0pQx3TViS-"
      }
    },
    {
      "cell_type": "markdown",
      "source": [
        "15.How does Python's garbage collection system work?"
      ],
      "metadata": {
        "id": "fId7NYeWVjYa"
      }
    },
    {
      "cell_type": "markdown",
      "source": [
        "\n",
        "Python's garbage collection uses reference counting to track object usage. It automatically frees memory by destroying objects with zero references. It also uses cycle detection to remove circular references."
      ],
      "metadata": {
        "id": "vUS-qV3SVuSk"
      }
    },
    {
      "cell_type": "markdown",
      "source": [
        "16.What is the purpose of the else block in exception handling?"
      ],
      "metadata": {
        "id": "5qpPUkR9Vyr-"
      }
    },
    {
      "cell_type": "markdown",
      "source": [
        "The else block in exception handling executes only if no exception occurs in the try block, allowing you to define code that runs when operations succeed.\n",
        "\n",
        "\n",
        "\n",
        "\n",
        "\n",
        "\n"
      ],
      "metadata": {
        "id": "LStwRgMRV-F4"
      }
    },
    {
      "cell_type": "markdown",
      "source": [
        "17. What are the common logging levels in Python?"
      ],
      "metadata": {
        "id": "970iKhfGV_UO"
      }
    },
    {
      "cell_type": "markdown",
      "source": [
        "\n",
        "Common logging levels in Python are:\n",
        "\n",
        "DEBUG: Detailed information for diagnosing problems.\n",
        "\n",
        "INFO: General information about program execution.\n",
        "\n",
        "WARNING: Indicates a potential issue.\n",
        "\n",
        "ERROR: A serious error that prevents execution.\n",
        "\n",
        "CRITICAL: A very serious error indicating a major failure."
      ],
      "metadata": {
        "id": "e4JAtbmeWKgI"
      }
    },
    {
      "cell_type": "markdown",
      "source": [
        "18. What is the difference between os.fork() and multiprocessing in Python?"
      ],
      "metadata": {
        "id": "TFo1IYstWVvY"
      }
    },
    {
      "cell_type": "markdown",
      "source": [
        "\n",
        "os.fork() creates a child process by duplicating the parent process, sharing memory. It's Unix-specific. Multiprocessing uses separate processes with independent memory, is cross-platform, and handles CPU-bound tasks more safely."
      ],
      "metadata": {
        "id": "cUmeLSPJWa8s"
      }
    },
    {
      "cell_type": "markdown",
      "source": [
        "19. What is the importance of closing a file in Python?"
      ],
      "metadata": {
        "id": "XvbALsFwWjN4"
      }
    },
    {
      "cell_type": "markdown",
      "source": [
        "\n",
        "Closing a file in Python frees system resources, ensures data is saved properly, prevents data corruption, and avoids memory leaks by releasing file handles. Use file.close() or the with statement."
      ],
      "metadata": {
        "id": "noye-gc7Wrr4"
      }
    },
    {
      "cell_type": "markdown",
      "source": [
        "20. What is the difference between file.read() and file.readline() in Python?"
      ],
      "metadata": {
        "id": "uZjEhKe1WwJ4"
      }
    },
    {
      "cell_type": "markdown",
      "source": [
        "file.read(): Reads the entire file content at once as a single string.\n",
        "\n",
        "file.readline(): Reads the next line from the file each time it's called.\n",
        "\n",
        "readline() reads line-by-line, while read() reads the whole file."
      ],
      "metadata": {
        "id": "YRuXRvK9W2k1"
      }
    },
    {
      "cell_type": "markdown",
      "source": [
        "21.What is the logging module in Python used for?"
      ],
      "metadata": {
        "id": "N_iI2QhaW-jt"
      }
    },
    {
      "cell_type": "markdown",
      "source": [
        "The logging module in Python is used to record messages for debugging, monitoring, and tracking program execution. It provides various logging levels (DEBUG, INFO, WARNING, ERROR, CRITICAL) for flexibility."
      ],
      "metadata": {
        "id": "mMP0DFeAXI9I"
      }
    },
    {
      "cell_type": "markdown",
      "source": [
        "22. What is the os module in Python used for in file handling?"
      ],
      "metadata": {
        "id": "ZFZCtKyWXJ54"
      }
    },
    {
      "cell_type": "markdown",
      "source": [
        "The os module in Python provides functions for interacting with the operating system, like file and directory manipulation. It handles tasks such as creating, deleting, renaming, and checking file paths."
      ],
      "metadata": {
        "id": "E4MvSMTaXV3i"
      }
    },
    {
      "cell_type": "markdown",
      "source": [
        "23.What are the challenges associated with memory management in Python?"
      ],
      "metadata": {
        "id": "Jmi2LG35XXeS"
      }
    },
    {
      "cell_type": "markdown",
      "source": [
        "\n",
        "Challenges in Python memory management include handling circular references, managing large data structures, dealing with unbounded object creation, ensuring efficient garbage collection, and preventing memory leaks.\n",
        "\n",
        "\n",
        "\n",
        "\n",
        "\n",
        "\n"
      ],
      "metadata": {
        "id": "FhFHLGG-XfPN"
      }
    },
    {
      "cell_type": "markdown",
      "source": [
        "24. How do you raise an exception manually in Python?"
      ],
      "metadata": {
        "id": "vHfp8RasXpSl"
      }
    },
    {
      "cell_type": "markdown",
      "source": [
        "You can raise an exception manually using the raise keyword followed by an exception type or instance, like this:\n",
        "\n",
        "python\n",
        "Copy code\n"
      ],
      "metadata": {
        "id": "30hSgqxwXv7u"
      }
    },
    {
      "cell_type": "markdown",
      "source": [
        "raise ValueError (\"This is a custom error message\")"
      ],
      "metadata": {
        "id": "fgidmPUOiFNN"
      }
    },
    {
      "cell_type": "markdown",
      "source": [
        "25. Why is it important to use multithreading in certain applications?"
      ],
      "metadata": {
        "id": "_x_5d1_uYKhm"
      }
    },
    {
      "cell_type": "markdown",
      "source": [
        "Multithreading improves application performance by allowing concurrent execution of tasks, especially for I/O-bound operations (e.g., file or network access), improving responsiveness without blocking the main thread.\n",
        "\n",
        "\n",
        "\n",
        "\n",
        "\n",
        "\n"
      ],
      "metadata": {
        "id": "21xl7VMVYlGO"
      }
    },
    {
      "cell_type": "markdown",
      "source": [
        "#Practical Questions"
      ],
      "metadata": {
        "id": "PSKBepiJYmw7"
      }
    },
    {
      "cell_type": "markdown",
      "source": [
        "1. How can you open a file for writing in Python and write a string to it?"
      ],
      "metadata": {
        "id": "4RscJs5aYslQ"
      }
    },
    {
      "cell_type": "markdown",
      "source": [
        "\n",
        "You can open a file for writing using open() with mode 'w' and write a string using the write() method:"
      ],
      "metadata": {
        "id": "OmNLAty-Y4qM"
      }
    },
    {
      "cell_type": "code",
      "source": [
        "with open('file.txt', 'w') as file:\n",
        "    file.write(\"This is a test string.\")\n"
      ],
      "metadata": {
        "id": "f-PV3LFEY6AL"
      },
      "execution_count": null,
      "outputs": []
    },
    {
      "cell_type": "markdown",
      "source": [
        "2. Write a Python program to read the contents of a file and print each line."
      ],
      "metadata": {
        "id": "e-rLACvdY5T6"
      }
    },
    {
      "cell_type": "markdown",
      "source": [
        "Here's a simple Python program to read a file's contents and print each line:"
      ],
      "metadata": {
        "id": "zdYrtW0UZDb4"
      }
    },
    {
      "cell_type": "code",
      "source": [
        "# Open the file in read mode\n",
        "with open('file.txt', 'r') as file:\n",
        "    # Read and print each line\n",
        "    for line in file:\n",
        "        print(line.strip())  # strip() removes extra newline characters\n"
      ],
      "metadata": {
        "colab": {
          "base_uri": "https://localhost:8080/"
        },
        "id": "ptkKcsaDZJmZ",
        "outputId": "8a45e570-1ea3-4210-e7b9-b91d4223f2a8"
      },
      "execution_count": null,
      "outputs": [
        {
          "output_type": "stream",
          "name": "stdout",
          "text": [
            "This is a test string.\n"
          ]
        }
      ]
    },
    {
      "cell_type": "markdown",
      "source": [
        "3.How would you handle a case where the file doesn't exist while trying to open it for reading?"
      ],
      "metadata": {
        "id": "qTfCkTKSZMAC"
      }
    },
    {
      "cell_type": "markdown",
      "source": [
        "You can handle the case where a file doesn't exist using a try-except block with FileNotFoundError:"
      ],
      "metadata": {
        "id": "D9c6A2xiZTh6"
      }
    },
    {
      "cell_type": "code",
      "source": [
        "try:\n",
        "    with open('file.txt', 'r') as file:\n",
        "        for line in file:\n",
        "            print(line.strip())\n",
        "except FileNotFoundError:\n",
        "    print(\"The file does not exist.\")\n"
      ],
      "metadata": {
        "colab": {
          "base_uri": "https://localhost:8080/"
        },
        "id": "xEZFYpdwZaBA",
        "outputId": "df2352dd-5fc0-4275-9924-498429b5dac9"
      },
      "execution_count": null,
      "outputs": [
        {
          "output_type": "stream",
          "name": "stdout",
          "text": [
            "This is a test string.\n"
          ]
        }
      ]
    },
    {
      "cell_type": "markdown",
      "source": [
        "4. Write a Python script that reads from one file and writes its content to another file."
      ],
      "metadata": {
        "id": "p-FBsfrNZiY3"
      }
    },
    {
      "cell_type": "markdown",
      "source": [
        "Here's a simple script that reads from one file and writes its content to another file:"
      ],
      "metadata": {
        "id": "FNLyneQ2ZqpO"
      }
    },
    {
      "cell_type": "code",
      "source": [
        "# Read from 'source.txt' and write to 'destination.txt'\n",
        "with  open ('source.txt', 'r')  as source_file:\n",
        "    with open('destination.txt', 'w') as dest_file:\n",
        "\n",
        "        dest_file.write(source_file.read())\n"
      ],
      "metadata": {
        "colab": {
          "base_uri": "https://localhost:8080/",
          "height": 211
        },
        "id": "7-Q1ivbWZvdB",
        "outputId": "db3e1a74-0ba6-46f4-edf6-70bd2919b04a"
      },
      "execution_count": null,
      "outputs": [
        {
          "output_type": "error",
          "ename": "FileNotFoundError",
          "evalue": "[Errno 2] No such file or directory: 'source.txt'",
          "traceback": [
            "\u001b[0;31m---------------------------------------------------------------------------\u001b[0m",
            "\u001b[0;31mFileNotFoundError\u001b[0m                         Traceback (most recent call last)",
            "\u001b[0;32m<ipython-input-36-da9bb316f005>\u001b[0m in \u001b[0;36m<cell line: 2>\u001b[0;34m()\u001b[0m\n\u001b[1;32m      1\u001b[0m \u001b[0;31m# Read from 'source.txt' and write to 'destination.txt'\u001b[0m\u001b[0;34m\u001b[0m\u001b[0;34m\u001b[0m\u001b[0m\n\u001b[0;32m----> 2\u001b[0;31m \u001b[0;32mwith\u001b[0m  \u001b[0mopen\u001b[0m \u001b[0;34m(\u001b[0m\u001b[0;34m'source.txt'\u001b[0m\u001b[0;34m,\u001b[0m \u001b[0;34m'r'\u001b[0m\u001b[0;34m)\u001b[0m  \u001b[0;32mas\u001b[0m \u001b[0msource_file\u001b[0m\u001b[0;34m:\u001b[0m\u001b[0;34m\u001b[0m\u001b[0;34m\u001b[0m\u001b[0m\n\u001b[0m\u001b[1;32m      3\u001b[0m     \u001b[0;32mwith\u001b[0m \u001b[0mopen\u001b[0m\u001b[0;34m(\u001b[0m\u001b[0;34m'destination.txt'\u001b[0m\u001b[0;34m,\u001b[0m \u001b[0;34m'w'\u001b[0m\u001b[0;34m)\u001b[0m \u001b[0;32mas\u001b[0m \u001b[0mdest_file\u001b[0m\u001b[0;34m:\u001b[0m\u001b[0;34m\u001b[0m\u001b[0;34m\u001b[0m\u001b[0m\n\u001b[1;32m      4\u001b[0m \u001b[0;34m\u001b[0m\u001b[0m\n\u001b[1;32m      5\u001b[0m         \u001b[0mdest_file\u001b[0m\u001b[0;34m.\u001b[0m\u001b[0mwrite\u001b[0m\u001b[0;34m(\u001b[0m\u001b[0msource_file\u001b[0m\u001b[0;34m.\u001b[0m\u001b[0mread\u001b[0m\u001b[0;34m(\u001b[0m\u001b[0;34m)\u001b[0m\u001b[0;34m)\u001b[0m\u001b[0;34m\u001b[0m\u001b[0;34m\u001b[0m\u001b[0m\n",
            "\u001b[0;31mFileNotFoundError\u001b[0m: [Errno 2] No such file or directory: 'source.txt'"
          ]
        }
      ]
    },
    {
      "cell_type": "markdown",
      "source": [
        "5. How would you catch and handle division by zero error in Python."
      ],
      "metadata": {
        "id": "HjnW2IMrZ2i2"
      }
    },
    {
      "cell_type": "markdown",
      "source": [
        "\n",
        "You can catch and handle a division by zero error using a try-except block:"
      ],
      "metadata": {
        "id": "20ImDF2CaBXC"
      }
    },
    {
      "cell_type": "code",
      "source": [
        "try:\n",
        "    result = 10 / 0\n",
        "except ZeroDivisionError:\n",
        "    print(\"Cannot divide by zero!\")\n"
      ],
      "metadata": {
        "colab": {
          "base_uri": "https://localhost:8080/"
        },
        "id": "cYeo9CrQaCE4",
        "outputId": "52ae5381-ca6c-4135-ea13-0a10c25acd5b"
      },
      "execution_count": null,
      "outputs": [
        {
          "output_type": "stream",
          "name": "stdout",
          "text": [
            "Cannot divide by zero!\n"
          ]
        }
      ]
    },
    {
      "cell_type": "markdown",
      "source": [
        "6. Write a Python program that logs an error message to a log file when a division by zero exception occurs."
      ],
      "metadata": {
        "id": "FqYro2fHaE7s"
      }
    },
    {
      "cell_type": "markdown",
      "source": [
        "Here's a Python program that logs an error message to a log file when a division by zero exception occurs:\n",
        "\n",
        "python\n",
        "Copy code\n"
      ],
      "metadata": {
        "id": "ynfLXuaeaQPo"
      }
    },
    {
      "cell_type": "code",
      "source": [
        "import logging\n",
        "\n",
        "# Configure logging\n",
        "logging.basicConfig(filename='error.log', level=logging.ERROR,\n",
        "                    format='%(asctime)s - %(levelname)s - %(message)s')\n",
        "\n",
        "try:\n",
        "    # Attempt to divide\n",
        "    result = 10 / 0\n",
        "except ZeroDivisionError:\n",
        "    # Log the error message\n",
        "    logging.error(\"Division by zero exception occurred\")\n"
      ],
      "metadata": {
        "colab": {
          "base_uri": "https://localhost:8080/"
        },
        "id": "UY3yXsnCaRcm",
        "outputId": "d3891053-3777-42c6-f293-e187a6376de7"
      },
      "execution_count": null,
      "outputs": [
        {
          "output_type": "stream",
          "name": "stderr",
          "text": [
            "ERROR:root:Division by zero exception occurred\n"
          ]
        }
      ]
    },
    {
      "cell_type": "markdown",
      "source": [
        "7. How do you log information at different levels (INFO, ERROR, WARNING) in Python using the logging module."
      ],
      "metadata": {
        "id": "jbh8NMeOaUKU"
      }
    },
    {
      "cell_type": "markdown",
      "source": [
        "\n",
        "You can log messages at different levels using the logging module like this:"
      ],
      "metadata": {
        "id": "3PEgL2v_adF-"
      }
    },
    {
      "cell_type": "code",
      "source": [
        "import logging\n",
        "\n",
        "# Configure logging\n",
        "logging.basicConfig(level=logging.DEBUG,\n",
        "                    format='%(asctime)s - %(levelname)s - %(message)s')\n",
        "\n",
        "logging.info(\"This is an INFO message.\")\n",
        "logging.warning(\"This is a WARNING message.\")\n",
        "logging.error(\"This is an ERROR message.\")\n"
      ],
      "metadata": {
        "colab": {
          "base_uri": "https://localhost:8080/"
        },
        "id": "V9nELRnWaiMn",
        "outputId": "2b9f974a-9293-41b0-9497-6d250889edb1"
      },
      "execution_count": null,
      "outputs": [
        {
          "output_type": "stream",
          "name": "stderr",
          "text": [
            "WARNING:root:This is a WARNING message.\n",
            "ERROR:root:This is an ERROR message.\n"
          ]
        }
      ]
    },
    {
      "cell_type": "markdown",
      "source": [
        "8.Write a program to handle a file opening error using exception handling."
      ],
      "metadata": {
        "id": "mY_P5JdVakko"
      }
    },
    {
      "cell_type": "markdown",
      "source": [
        "Here's a Python program that handles a file opening error using exception handling:"
      ],
      "metadata": {
        "id": "TfJ-5keGaquo"
      }
    },
    {
      "cell_type": "code",
      "source": [
        "try:\n",
        "    with open('non_existent_file.txt', 'r') as file:\n",
        "        content = file.read()\n",
        "        print(content)\n",
        "except FileNotFoundError:\n",
        "    print(\"Error: The file does not exist.\")\n",
        "except Exception as e:\n",
        "    print(f\"An unexpected error occurred: {e}\")\n"
      ],
      "metadata": {
        "colab": {
          "base_uri": "https://localhost:8080/"
        },
        "id": "cVBwHYhoaxQ4",
        "outputId": "3a96e5cd-acf3-46b8-952a-23482a24fafd"
      },
      "execution_count": null,
      "outputs": [
        {
          "output_type": "stream",
          "name": "stdout",
          "text": [
            "Error: The file does not exist.\n"
          ]
        }
      ]
    },
    {
      "cell_type": "markdown",
      "source": [
        "9. How can you read a file line by line and store its content in a list in Python."
      ],
      "metadata": {
        "id": "2n2iwomGa1zJ"
      }
    },
    {
      "cell_type": "markdown",
      "source": [
        "\n",
        "You can read a file line by line and store its content in a list using readlines():"
      ],
      "metadata": {
        "id": "TgHkYf-wa6aF"
      }
    },
    {
      "cell_type": "code",
      "source": [
        "with open('file.txt', 'r') as file:\n",
        "    lines = file.readlines()\n",
        "    print(lines)\n"
      ],
      "metadata": {
        "colab": {
          "base_uri": "https://localhost:8080/"
        },
        "id": "pUjHbah3bB8_",
        "outputId": "017ee8d7-21f6-43f1-adea-2c29221f0430"
      },
      "execution_count": null,
      "outputs": [
        {
          "output_type": "stream",
          "name": "stdout",
          "text": [
            "['This is a test string.']\n"
          ]
        }
      ]
    },
    {
      "cell_type": "markdown",
      "source": [
        " 10.How can you append data to an existing file in Python"
      ],
      "metadata": {
        "id": "Uf-ViEWbbELo"
      }
    },
    {
      "cell_type": "markdown",
      "source": [
        "You can append data to an existing file by opening it in 'a' mode:"
      ],
      "metadata": {
        "id": "hHq-rGXNbPsF"
      }
    },
    {
      "cell_type": "code",
      "source": [
        "with open('file.txt', 'a') as file:\n",
        "    file.write(\"This is new data to append.\\n\")\n"
      ],
      "metadata": {
        "id": "L66kiMhGbSJ7"
      },
      "execution_count": null,
      "outputs": []
    },
    {
      "cell_type": "markdown",
      "source": [
        "11. Write a Python program that uses a try-except block to handle an error when attempting to access a\n",
        "dictionary key that doesn't exist."
      ],
      "metadata": {
        "id": "8kEpum3IbVPz"
      }
    },
    {
      "cell_type": "markdown",
      "source": [
        "Here's a Python program that uses a try-except block to handle an error when attempting to access a dictionary key that doesn't exist:\n",
        "\n",
        "python\n",
        "Copy code\n"
      ],
      "metadata": {
        "id": "PDd93xm-bctu"
      }
    },
    {
      "cell_type": "code",
      "source": [
        "# Sample dictionary\n",
        "my_dict = {'name': 'Alice', 'age': 25, 'city': 'New York'}\n",
        "\n",
        "try:\n",
        "    # Attempt to access a key that may not exist\n",
        "    value = my_dict['country']\n",
        "    print(\"Value:\", value)\n",
        "except KeyError:\n",
        "    # Handle the error if the key doesn't exist\n",
        "    print(\"Error: The key does not exist in the dictionary.\")\n"
      ],
      "metadata": {
        "colab": {
          "base_uri": "https://localhost:8080/"
        },
        "id": "3O3v9cM2baqE",
        "outputId": "d9b1802c-f94d-447a-d5af-f615ec098180"
      },
      "execution_count": null,
      "outputs": [
        {
          "output_type": "stream",
          "name": "stdout",
          "text": [
            "Error: The key does not exist in the dictionary.\n"
          ]
        }
      ]
    },
    {
      "cell_type": "markdown",
      "source": [
        "12. Write a program that demonstrates using multiple except blocks to handle different types of exceptions."
      ],
      "metadata": {
        "id": "26W2Shi-brbM"
      }
    },
    {
      "cell_type": "markdown",
      "source": [
        "\n",
        "Here's a Python program that demonstrates using multiple except blocks to handle different types of exceptions:"
      ],
      "metadata": {
        "id": "-uWYtTWsb1MW"
      }
    },
    {
      "cell_type": "code",
      "source": [
        "try:\n",
        "    # Attempt to perform multiple operations that may raise exceptions\n",
        "    num = int(input(\"Enter a number: \"))\n",
        "    result = 10 / num  # May raise ZeroDivisionError or invalid input\n",
        "    print(\"Result:\", result)\n",
        "except ValueError:\n",
        "    # Handle invalid input\n",
        "    print(\"Error: Invalid input. Please enter a valid number.\")\n",
        "except ZeroDivisionError:\n",
        "    # Handle division by zero\n",
        "    print(\"Error: Cannot divide by zero.\")\n",
        "except Exception as e:\n",
        "    # Handle any other unexpected exception\n",
        "    print(f\"An unexpected error occurred: {e}\")\n",
        "else:\n",
        "    # Code that runs only if no exception is raised\n",
        "    print(\"Operation completed successfully.\")\n",
        "finally:\n",
        "    # Code that runs regardless of exceptions\n",
        "    print(\"Execution finished.\")\n"
      ],
      "metadata": {
        "colab": {
          "base_uri": "https://localhost:8080/"
        },
        "id": "eBx1nFLmb1v2",
        "outputId": "f1169de4-a1d0-40a4-be87-f5e753a4003a"
      },
      "execution_count": null,
      "outputs": [
        {
          "output_type": "stream",
          "name": "stdout",
          "text": [
            "Enter a number: 50\n",
            "Result: 0.2\n",
            "Operation completed successfully.\n",
            "Execution finished.\n"
          ]
        }
      ]
    },
    {
      "cell_type": "markdown",
      "source": [
        "##Explanation:\n",
        "ValueError: Handles invalid inputs that can't be converted to integers.\n",
        "\n",
        "ZeroDivisionError: Handles attempts to divide by zero.\n",
        "\n",
        "Generic Exception: Catches any other unexpected errors.\n",
        "\n",
        "else: Executes if no exceptions are raised.\n",
        "\n",
        "finally: Executes no matter what, for cleanup if necessary."
      ],
      "metadata": {
        "id": "2H1N2E_8cN_2"
      }
    },
    {
      "cell_type": "markdown",
      "source": [
        "13. How would you check if a file exists before attempting to read it in Python?"
      ],
      "metadata": {
        "id": "PNFvTP2Fb7Nm"
      }
    },
    {
      "cell_type": "markdown",
      "source": [
        "You can check if a file exists before attempting to read it using the os.path.exists() method:"
      ],
      "metadata": {
        "id": "lINIdqiIcDEn"
      }
    },
    {
      "cell_type": "code",
      "source": [
        "import os\n",
        "\n",
        "file_path = 'file.txt'\n",
        "\n",
        "if os.path.exists(file_path):\n",
        "    with open(file_path, 'r') as file:\n",
        "        content = file.read()\n",
        "        print(content)\n",
        "else:\n",
        "    print(\"Error: The file does not exist.\")\n"
      ],
      "metadata": {
        "colab": {
          "base_uri": "https://localhost:8080/"
        },
        "id": "swU5eChHcavg",
        "outputId": "3cb9de84-097e-4a5e-b9b0-e285d1553150"
      },
      "execution_count": null,
      "outputs": [
        {
          "output_type": "stream",
          "name": "stdout",
          "text": [
            "This is a test string.This is new data to append.\n",
            "\n"
          ]
        }
      ]
    },
    {
      "cell_type": "markdown",
      "source": [
        "14. Write a program that uses the logging module to log both informational and error messages."
      ],
      "metadata": {
        "id": "hu3E5N07cdNs"
      }
    },
    {
      "cell_type": "markdown",
      "source": [
        "Here's a Python program that uses the logging module to log both informational and error messages:"
      ],
      "metadata": {
        "id": "BJb45MaxcjZj"
      }
    },
    {
      "cell_type": "code",
      "source": [
        "import logging\n",
        "\n",
        "# Configure logging\n",
        "logging.basicConfig(\n",
        "    filename='app.log',\n",
        "    level=logging.DEBUG,\n",
        "    format='%(asctime)s - %(levelname)s - %(message)s'\n",
        ")\n",
        "\n",
        "# Log an informational message\n",
        "logging.info(\"This is an informational message.\")\n",
        "\n",
        "try:\n",
        "    # Simulate an operation that may raise an error\n",
        "    result = 10 / 0\n",
        "except ZeroDivisionError as e:\n",
        "    # Log an error message\n",
        "    logging.error(\"An error occurred: Division by zero.\", exc_info=True)\n"
      ],
      "metadata": {
        "colab": {
          "base_uri": "https://localhost:8080/"
        },
        "id": "Da79-GMRcpOo",
        "outputId": "1b870c14-390a-439d-be08-36210713f882"
      },
      "execution_count": null,
      "outputs": [
        {
          "output_type": "stream",
          "name": "stderr",
          "text": [
            "ERROR:root:An error occurred: Division by zero.\n",
            "Traceback (most recent call last):\n",
            "  File \"<ipython-input-18-0e2520b8b563>\", line 15, in <cell line: 13>\n",
            "    result = 10 / 0\n",
            "ZeroDivisionError: division by zero\n"
          ]
        }
      ]
    },
    {
      "cell_type": "markdown",
      "source": [
        "##Explanation:\n",
        "logging.basicConfig: Sets up the logging configuration.\n",
        "\n",
        "filename='app.log': Logs messages to app.log.\n",
        "\n",
        "level=logging.DEBUG: Captures all logging levels (DEBUG, INFO, WARNING, ERROR, CRITICAL).\n",
        "\n",
        "format='%(asctime)s - %(levelname)s - %(message)s': Formats the log messages with timestamps and log levels.\n",
        "\n",
        "logging.info: Logs an informational message.\n",
        "\n",
        "Exception Handling: A simulated division by zero error logs the exception using logging.error.\n",
        "\n",
        "exc_info=True: Logs the exception traceback for better debugging.\n",
        "\n",
        "\n",
        "\n",
        "\n",
        "\n",
        "\n",
        "\n"
      ],
      "metadata": {
        "id": "PQoR3aFOcvke"
      }
    },
    {
      "cell_type": "markdown",
      "source": [
        "15.Write a Python program that prints the content of a file and handles the case when the file is empty."
      ],
      "metadata": {
        "id": "M_9u65_oc6Mb"
      }
    },
    {
      "cell_type": "markdown",
      "source": [
        "\n",
        "Here's a Python program that prints the content of a file and handles the case when the file is empty:\n",
        "\n",
        "python\n",
        "Copy code\n"
      ],
      "metadata": {
        "id": "Ap0WAM0ydJdA"
      }
    },
    {
      "cell_type": "code",
      "source": [
        "try:\n",
        "    with open('file.txt', 'r') as file:\n",
        "        content = file.read()\n",
        "        if content.strip():  # Check if the file is not empty\n",
        "            print(\"File Content:\")\n",
        "            print(content)\n",
        "        else:\n",
        "            print(\"The file is empty.\")\n",
        "except FileNotFoundError:\n",
        "    print(\"Error: The file does not exist.\")\n"
      ],
      "metadata": {
        "colab": {
          "base_uri": "https://localhost:8080/"
        },
        "id": "N7SkDPCQdM7w",
        "outputId": "b366c6a1-3ca7-4542-d157-fced91eb9d3d"
      },
      "execution_count": null,
      "outputs": [
        {
          "output_type": "stream",
          "name": "stdout",
          "text": [
            "File Content:\n",
            "This is a test string.This is new data to append.\n",
            "\n"
          ]
        }
      ]
    },
    {
      "cell_type": "markdown",
      "source": [
        "16. Demonstrate how to use memory profiling to check the memory usage of a small program."
      ],
      "metadata": {
        "id": "c7Y74yATdPyc"
      }
    },
    {
      "cell_type": "markdown",
      "source": [
        "You can use the memory_profiler package to check memory usage in Python. First, install it using pip:\n",
        "\n",
        "bash\n",
        "Copy code\n"
      ],
      "metadata": {
        "id": "HwCqM7OCdaD_"
      }
    },
    {
      "cell_type": "code",
      "source": [
        "pip install memory-profiler\n"
      ],
      "metadata": {
        "colab": {
          "base_uri": "https://localhost:8080/"
        },
        "id": "YP_Nu5g7ddlv",
        "outputId": "c1d8fa90-ac4b-4d24-9ea7-c53f368d80a2"
      },
      "execution_count": null,
      "outputs": [
        {
          "output_type": "stream",
          "name": "stdout",
          "text": [
            "Collecting memory-profiler\n",
            "  Downloading memory_profiler-0.61.0-py3-none-any.whl.metadata (20 kB)\n",
            "Requirement already satisfied: psutil in /usr/local/lib/python3.10/dist-packages (from memory-profiler) (5.9.5)\n",
            "Downloading memory_profiler-0.61.0-py3-none-any.whl (31 kB)\n",
            "Installing collected packages: memory-profiler\n",
            "Successfully installed memory-profiler-0.61.0\n"
          ]
        }
      ]
    },
    {
      "cell_type": "markdown",
      "source": [
        "Example: Using @profile\n",
        "Below is a small example to demonstrate memory profiling:"
      ],
      "metadata": {
        "id": "uqourueodlti"
      }
    },
    {
      "cell_type": "code",
      "source": [
        "from memory_profiler import profile\n",
        "\n",
        "\n",
        "@profile\n",
        "def my_function():\n",
        "    a = [0] * (10 ** 6)  # Create a large list\n",
        "    b = [1] * (10 ** 6)  # Another large list\n",
        "    del b  # Delete a list to free memory\n",
        "    return a\n",
        "\n",
        "\n",
        "if __name__ == \"__main__\":\n",
        "    my_function()\n"
      ],
      "metadata": {
        "colab": {
          "base_uri": "https://localhost:8080/"
        },
        "id": "2ryYK7rZdiqO",
        "outputId": "588ba15f-3344-4004-e30c-59b0c53e175a"
      },
      "execution_count": null,
      "outputs": [
        {
          "output_type": "stream",
          "name": "stderr",
          "text": [
            "\n",
            "PYDEV DEBUGGER WARNING:\n",
            "sys.settrace() should not be used when the debugger is being used.\n",
            "This may cause the debugger to stop working correctly.\n",
            "If this is needed, please check: \n",
            "http://pydev.blogspot.com/2007/06/why-cant-pydev-debugger-work-with.html\n",
            "to see how to restore the debug tracing back correctly.\n",
            "Call Location:\n",
            "  File \"/usr/local/lib/python3.10/dist-packages/memory_profiler.py\", line 847, in enable\n",
            "    sys.settrace(self.trace_memory_usage)\n",
            "\n",
            "\n",
            "PYDEV DEBUGGER WARNING:\n",
            "sys.settrace() should not be used when the debugger is being used.\n",
            "This may cause the debugger to stop working correctly.\n",
            "If this is needed, please check: \n",
            "http://pydev.blogspot.com/2007/06/why-cant-pydev-debugger-work-with.html\n",
            "to see how to restore the debug tracing back correctly.\n",
            "Call Location:\n",
            "  File \"/usr/local/lib/python3.10/dist-packages/memory_profiler.py\", line 850, in disable\n",
            "    sys.settrace(self._original_trace_function)\n",
            "\n"
          ]
        },
        {
          "output_type": "stream",
          "name": "stdout",
          "text": [
            "ERROR: Could not find file <ipython-input-21-1599dab83a82>\n",
            "NOTE: %mprun can only be used on functions defined in physical files, and not in the IPython environment.\n"
          ]
        }
      ]
    },
    {
      "cell_type": "markdown",
      "source": [
        "##Explanation:\n",
        "@profile decorator: This tells the memory profiler to monitor memory usage of the specific function.\n",
        "\n",
        "Run the script with the profiler:\n",
        "\n",
        "Alternatively, you can execute directly with python -m memory_profiler script.py.\n",
        "\n",
        "This will show memory usage for my_function.\n",
        "\n",
        "\n",
        "\n",
        "\n",
        "\n",
        "\n"
      ],
      "metadata": {
        "id": "gaBV_EVVdqjh"
      }
    },
    {
      "cell_type": "markdown",
      "source": [
        "17. Write a Python program to create and write a list of numbers to a file, one number per line."
      ],
      "metadata": {
        "id": "f6uFseJ2eFQQ"
      }
    },
    {
      "cell_type": "markdown",
      "source": [
        "Here's a simple Python program that creates a file and writes a list of numbers to it, one number per line:"
      ],
      "metadata": {
        "id": "j78J_bbCeXa8"
      }
    },
    {
      "cell_type": "code",
      "source": [
        "# List of numbers\n",
        "numbers = [1, 2, 3, 4, 5]\n",
        "\n",
        "# Open file in write mode\n",
        "with open('numbers.txt', 'w') as file:\n",
        "    for number in numbers:\n",
        "        file.write(f\"{number}\\n\")  # Write each number on a new line\n"
      ],
      "metadata": {
        "id": "xHmre-XDedi9"
      },
      "execution_count": null,
      "outputs": []
    },
    {
      "cell_type": "markdown",
      "source": [
        "18. How would you implement a basic logging setup that logs to a file with rotation after 1MB?"
      ],
      "metadata": {
        "id": "sd-OdPujegHB"
      }
    },
    {
      "cell_type": "markdown",
      "source": [
        "To implement logging with file rotation after the log file reaches 1MB, use Python's logging.handlers.RotatingFileHandler. Here's how:\n",
        "\n",
        "python\n",
        "Copy code\n"
      ],
      "metadata": {
        "id": "K4x96paken3K"
      }
    },
    {
      "cell_type": "code",
      "source": [
        "import logging\n",
        "from logging.handlers import RotatingFileHandler\n",
        "\n",
        "# Set up logging\n",
        "logger = logging.getLogger('my_logger')\n",
        "logger.setLevel(logging.DEBUG)  # Set logging level\n",
        "\n",
        "# Create a RotatingFileHandler to rotate the log file after it reaches 1MB\n",
        "handler = RotatingFileHandler('app.log', maxBytes=1 * 1024 * 1024, backupCount=5)  # 1MB rotation\n",
        "formatter = logging.Formatter('%(asctime)s - %(levelname)s - %(message)s')\n",
        "handler.setFormatter(formatter)\n",
        "\n",
        "# Add the handler to the logger\n",
        "logger.addHandler(handler)\n",
        "\n",
        "# Log sample messages\n",
        "logger.info(\"This is an informational message.\")\n",
        "logger.error(\"This is an error message.\")\n",
        "logger.debug(\"This is a debug message.\")\n"
      ],
      "metadata": {
        "colab": {
          "base_uri": "https://localhost:8080/"
        },
        "id": "baCSkfv1euww",
        "outputId": "1067fea1-c926-4937-9df7-326b8c15d740"
      },
      "execution_count": null,
      "outputs": [
        {
          "output_type": "stream",
          "name": "stderr",
          "text": [
            "INFO:my_logger:This is an informational message.\n",
            "ERROR:my_logger:This is an error message.\n",
            "DEBUG:my_logger:This is a debug message.\n"
          ]
        }
      ]
    },
    {
      "cell_type": "markdown",
      "source": [
        "##Explanation:\n",
        "###RotatingFileHandler:\n",
        "\n",
        "maxBytes=1 * 1024 * 1024: Sets the maximum file size to 1MB before rotation.\n",
        "backupCount=5: Keeps up to 5 backup files when rotation occurs.\n",
        "\n",
        "###logger.setLevel(logging.DEBUG):\n",
        "\n",
        "Logs all levels of messages (DEBUG, INFO, WARNING, ERROR, CRITICAL).\n",
        "Logging Output:\n",
        "\n",
        "Messages are saved to app.log.\n",
        "\n",
        "When the log file reaches 1MB, it rotates, creating backup files like app.log.1, app.log.2, etc.\n",
        "\n",
        "###formatter:\n",
        "\n",
        "Ensures a consistent log message format.\n",
        "\n",
        "This will ensure logs are managed efficiently even as they grow in size.\n",
        "\n",
        "\n",
        "\n",
        "\n",
        "\n",
        "\n",
        "\n"
      ],
      "metadata": {
        "id": "t_g5elQ0euTM"
      }
    },
    {
      "cell_type": "markdown",
      "source": [
        "19.Write a program that handles both IndexError and KeyError using a try-except block."
      ],
      "metadata": {
        "id": "QLYBPPMjfQX7"
      }
    },
    {
      "cell_type": "markdown",
      "source": [
        "Here's a Python program that handles both IndexError and KeyError using a try-except block:"
      ],
      "metadata": {
        "id": "EoWNk56TfZmy"
      }
    },
    {
      "cell_type": "code",
      "source": [
        "data = {'name': 'Alice', 'age': 25}\n",
        "\n",
        "try:\n",
        "    # Attempt to access an index out of range\n",
        "    print([1, 2, 3][5])\n",
        "\n",
        "    # Attempt to access a non-existent key\n",
        "    print(data['city'])\n",
        "except IndexError:\n",
        "    print(\"IndexError: Attempted to access an invalid index.\")\n",
        "except KeyError:\n",
        "    print(\"KeyError: Attempted to access a non-existent key.\")\n"
      ],
      "metadata": {
        "colab": {
          "base_uri": "https://localhost:8080/"
        },
        "id": "7d83_pOgff2j",
        "outputId": "d6e96b43-17bd-4bdf-d54d-50faeeff1ebf"
      },
      "execution_count": null,
      "outputs": [
        {
          "output_type": "stream",
          "name": "stdout",
          "text": [
            "IndexError: Attempted to access an invalid index.\n"
          ]
        }
      ]
    },
    {
      "cell_type": "markdown",
      "source": [
        "##Explanation:\n",
        "IndexError: Triggered when trying to access an index that doesn't exist in a list.\n",
        "\n",
        "KeyError: Triggered when trying to access a key that doesn't exist in a dictionary.\n",
        "\n",
        "Both errors are caught using separate except blocks, preventing the program from crashing.\n"
      ],
      "metadata": {
        "id": "I_BmOlt0fiTk"
      }
    },
    {
      "cell_type": "markdown",
      "source": [
        "20. How would you open a file and read its contents using a context manager in Python."
      ],
      "metadata": {
        "id": "M9B9QAMGfnwM"
      }
    },
    {
      "cell_type": "markdown",
      "source": [
        "You can open and read a file using a context manager with the with statement in Python like this:"
      ],
      "metadata": {
        "id": "eOwU-IvmfxyC"
      }
    },
    {
      "cell_type": "code",
      "source": [
        "with open('file.txt', 'r') as file:\n",
        "    content = file.read()\n",
        "    print(content)\n"
      ],
      "metadata": {
        "colab": {
          "base_uri": "https://localhost:8080/"
        },
        "id": "Y3pyvLc4f0pj",
        "outputId": "78630093-955e-4072-e9f3-224abeb3babd"
      },
      "execution_count": null,
      "outputs": [
        {
          "output_type": "stream",
          "name": "stdout",
          "text": [
            "This is a test string.This is new data to append.\n",
            "\n"
          ]
        }
      ]
    },
    {
      "cell_type": "markdown",
      "source": [
        "##Explanation:\n",
        "with open('file.txt', 'r') as file:: Opens the file in read mode ('r'). The context manager ensures the file is properly closed after the block exits.\n",
        "\n",
        "file.read(): Reads the entire contents of the file.\n",
        "\n",
        "The context manager automatically handles closing the file, even if an exception occurs.\n",
        "\n",
        "\n",
        "\n",
        "\n",
        "\n"
      ],
      "metadata": {
        "id": "MmFnmMNRf3Mg"
      }
    },
    {
      "cell_type": "markdown",
      "source": [
        "21. Write a Python program that reads a file and prints the number of occurrences of a specific word."
      ],
      "metadata": {
        "id": "NKcogNusgFI6"
      }
    },
    {
      "cell_type": "markdown",
      "source": [
        "Here's a Python program that reads a file and prints the number of occurrences of a specific word:\n",
        "\n",
        "python\n",
        "Copy code\n",
        "# Word to search for"
      ],
      "metadata": {
        "id": "iT5torOHgKVZ"
      }
    },
    {
      "cell_type": "code",
      "source": [
        "# Word to search for\n",
        "word_to_search = 'example'\n",
        "\n",
        "# Open and read the file\n",
        "with open('file.txt', 'r') as file:\n",
        "    content = file.read()\n",
        "\n",
        "# Count occurrences of the word\n",
        "word_count = content.split().count(word_to_search)\n",
        "\n",
        "print(f\"The word '{word_to_search}' appears {word_count} times.\")\n"
      ],
      "metadata": {
        "colab": {
          "base_uri": "https://localhost:8080/"
        },
        "id": "ZkimiAJFgWD2",
        "outputId": "9753990e-b90e-4fe7-bedb-82dbe374fecf"
      },
      "execution_count": null,
      "outputs": [
        {
          "output_type": "stream",
          "name": "stdout",
          "text": [
            "The word 'example' appears 0 times.\n"
          ]
        }
      ]
    },
    {
      "cell_type": "markdown",
      "source": [
        "##Explanation:\n",
        "with open('file.txt', 'r') as file:: Opens the file safely using a context manager.\n",
        "\n",
        "content = file.read(): Reads the entire file's content into a string.\n",
        "\n",
        "content.split().count(word_to_search): Splits the text into words and counts how many times the word appears.\n",
        "\n",
        "Print the result.\n",
        "\n",
        "This counts whole-word matches only.\n",
        "\n",
        "\n",
        "\n",
        "\n",
        "\n",
        "\n"
      ],
      "metadata": {
        "id": "unNrT9cegaSI"
      }
    },
    {
      "cell_type": "markdown",
      "source": [
        "22. How can you check if a file is empty before attempting to read its contents?"
      ],
      "metadata": {
        "id": "dzqXz0Cigi7q"
      }
    },
    {
      "cell_type": "markdown",
      "source": [
        "\n",
        "Check if a file is empty using os.stat(file_path).st_size == 0 before reading:"
      ],
      "metadata": {
        "id": "gJrm_UrAgzMt"
      }
    },
    {
      "cell_type": "code",
      "source": [
        "import os\n",
        "\n",
        "if os.stat('file.txt').st_size == 0:\n",
        "    print(\"The file is empty.\")\n",
        "else:\n",
        "    with open('file.txt', 'r') as file:\n",
        "        print(file.read())\n"
      ],
      "metadata": {
        "colab": {
          "base_uri": "https://localhost:8080/"
        },
        "id": "PSitKECDgz2P",
        "outputId": "cfce9c69-f77c-450b-c727-738761d0404a"
      },
      "execution_count": null,
      "outputs": [
        {
          "output_type": "stream",
          "name": "stdout",
          "text": [
            "This is a test string.This is new data to append.\n",
            "\n"
          ]
        }
      ]
    },
    {
      "cell_type": "markdown",
      "source": [
        "23. Write a Python program that writes to a log file when an error occurs during file handling."
      ],
      "metadata": {
        "id": "XE_lHEXag17m"
      }
    },
    {
      "cell_type": "markdown",
      "source": [
        "\n",
        "Here's a Python program that writes to a log file when an error occurs during file handling:"
      ],
      "metadata": {
        "id": "ZPinDEjRg6YU"
      }
    },
    {
      "cell_type": "code",
      "source": [
        "import logging\n",
        "\n",
        "# Configure logging\n",
        "logging.basicConfig(filename='error.log', level=logging.ERROR)\n",
        "\n",
        "try:\n",
        "    with open('nonexistent_file.txt', 'r') as file:\n",
        "        content = file.read()\n",
        "except Exception as e:\n",
        "    logging.error(\"Error occurred during file handling.\", exc_info=True)\n"
      ],
      "metadata": {
        "colab": {
          "base_uri": "https://localhost:8080/"
        },
        "id": "BlCt-0dbhAsk",
        "outputId": "00478592-7ee9-42b3-a2ef-80f6f0d79573"
      },
      "execution_count": null,
      "outputs": [
        {
          "output_type": "stream",
          "name": "stderr",
          "text": [
            "ERROR:root:Error occurred during file handling.\n",
            "Traceback (most recent call last):\n",
            "  File \"<ipython-input-33-566c42b9dc09>\", line 7, in <cell line: 6>\n",
            "    with open('nonexistent_file.txt', 'r') as file:\n",
            "FileNotFoundError: [Errno 2] No such file or directory: 'nonexistent_file.txt'\n"
          ]
        }
      ]
    }
  ]
}